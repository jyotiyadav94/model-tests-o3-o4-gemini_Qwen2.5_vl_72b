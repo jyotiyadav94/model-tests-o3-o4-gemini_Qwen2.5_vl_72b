{
  "nbformat": 4,
  "nbformat_minor": 0,
  "metadata": {
    "colab": {
      "provenance": []
    },
    "kernelspec": {
      "name": "python3",
      "display_name": "Python 3"
    },
    "language_info": {
      "name": "python"
    }
  },
  "cells": [
    {
      "cell_type": "code",
      "execution_count": 1,
      "metadata": {
        "colab": {
          "base_uri": "https://localhost:8080/"
        },
        "id": "UuFL9X_gzLdo",
        "outputId": "80fa8cbc-ea9b-4a48-8534-bdf45cf8c157"
      },
      "outputs": [
        {
          "output_type": "stream",
          "name": "stdout",
          "text": [
            "Requirement already satisfied: openai in /usr/local/lib/python3.11/dist-packages (1.94.0)\n",
            "Collecting openai\n",
            "  Downloading openai-1.95.1-py3-none-any.whl.metadata (29 kB)\n",
            "Requirement already satisfied: anyio<5,>=3.5.0 in /usr/local/lib/python3.11/dist-packages (from openai) (4.9.0)\n",
            "Requirement already satisfied: distro<2,>=1.7.0 in /usr/local/lib/python3.11/dist-packages (from openai) (1.9.0)\n",
            "Requirement already satisfied: httpx<1,>=0.23.0 in /usr/local/lib/python3.11/dist-packages (from openai) (0.28.1)\n",
            "Requirement already satisfied: jiter<1,>=0.4.0 in /usr/local/lib/python3.11/dist-packages (from openai) (0.10.0)\n",
            "Requirement already satisfied: pydantic<3,>=1.9.0 in /usr/local/lib/python3.11/dist-packages (from openai) (2.11.7)\n",
            "Requirement already satisfied: sniffio in /usr/local/lib/python3.11/dist-packages (from openai) (1.3.1)\n",
            "Requirement already satisfied: tqdm>4 in /usr/local/lib/python3.11/dist-packages (from openai) (4.67.1)\n",
            "Requirement already satisfied: typing-extensions<5,>=4.11 in /usr/local/lib/python3.11/dist-packages (from openai) (4.14.1)\n",
            "Requirement already satisfied: idna>=2.8 in /usr/local/lib/python3.11/dist-packages (from anyio<5,>=3.5.0->openai) (3.10)\n",
            "Requirement already satisfied: certifi in /usr/local/lib/python3.11/dist-packages (from httpx<1,>=0.23.0->openai) (2025.7.9)\n",
            "Requirement already satisfied: httpcore==1.* in /usr/local/lib/python3.11/dist-packages (from httpx<1,>=0.23.0->openai) (1.0.9)\n",
            "Requirement already satisfied: h11>=0.16 in /usr/local/lib/python3.11/dist-packages (from httpcore==1.*->httpx<1,>=0.23.0->openai) (0.16.0)\n",
            "Requirement already satisfied: annotated-types>=0.6.0 in /usr/local/lib/python3.11/dist-packages (from pydantic<3,>=1.9.0->openai) (0.7.0)\n",
            "Requirement already satisfied: pydantic-core==2.33.2 in /usr/local/lib/python3.11/dist-packages (from pydantic<3,>=1.9.0->openai) (2.33.2)\n",
            "Requirement already satisfied: typing-inspection>=0.4.0 in /usr/local/lib/python3.11/dist-packages (from pydantic<3,>=1.9.0->openai) (0.4.1)\n",
            "Downloading openai-1.95.1-py3-none-any.whl (755 kB)\n",
            "\u001b[2K   \u001b[90m━━━━━━━━━━━━━━━━━━━━━━━━━━━━━━━━━━━━━━━━\u001b[0m \u001b[32m755.6/755.6 kB\u001b[0m \u001b[31m12.2 MB/s\u001b[0m eta \u001b[36m0:00:00\u001b[0m\n",
            "\u001b[?25hInstalling collected packages: openai\n",
            "  Attempting uninstall: openai\n",
            "    Found existing installation: openai 1.94.0\n",
            "    Uninstalling openai-1.94.0:\n",
            "      Successfully uninstalled openai-1.94.0\n",
            "Successfully installed openai-1.95.1\n"
          ]
        }
      ],
      "source": [
        "!pip install --upgrade openai"
      ]
    },
    {
      "cell_type": "code",
      "source": [
        "from openai import OpenAI"
      ],
      "metadata": {
        "id": "m-xgdpW9zSZR"
      },
      "execution_count": 2,
      "outputs": []
    },
    {
      "cell_type": "code",
      "source": [
        "from google.colab import userdata\n",
        "YOUR_API_KEY= userdata.get('YOUR_API_KEY')\n",
        "\n",
        "client = OpenAI(api_key=YOUR_API_KEY)"
      ],
      "metadata": {
        "id": "gDB49SeyzXEM"
      },
      "execution_count": 3,
      "outputs": []
    },
    {
      "cell_type": "code",
      "source": [
        "from openai import OpenAI\n",
        "\n",
        "response = client.chat.completions.create(\n",
        "    model=\"o4-mini\",  # or \"gpt-4\", or \"gpt-3.5-turbo\"\n",
        "    messages=[\n",
        "        {\"role\": \"user\", \"content\": \"What’s the difference between inductive and deductive reasoning?\"}\n",
        "    ]\n",
        ")\n",
        "\n",
        "print(response.choices[0].message.content)"
      ],
      "metadata": {
        "colab": {
          "base_uri": "https://localhost:8080/"
        },
        "id": "PoLPs7s60lxf",
        "outputId": "df60f796-80fe-4ec0-ea8b-62b5da9c2705"
      },
      "execution_count": 34,
      "outputs": [
        {
          "output_type": "stream",
          "name": "stdout",
          "text": [
            "Here’s a side-by-side comparison of the two reasoning styles:\n",
            "\n",
            "1. Direction of reasoning  \n",
            "   • Deductive: Top-down. You start with one or more general premises and derive a specific conclusion.  \n",
            "   • Inductive: Bottom-up. You gather specific observations or data and infer a general rule or pattern.\n",
            "\n",
            "2. Nature of the conclusion  \n",
            "   • Deductive: If the premises are true and the argument is valid, the conclusion must be true (necessary).  \n",
            "   • Inductive: The conclusion is a probability or likelihood, not a certainty—even if all observations so far support it.\n",
            "\n",
            "3. Typical structure  \n",
            "   • Deductive (syllogism example)  \n",
            "     – Premise 1: All mammals are warm-blooded.  \n",
            "     – Premise 2: Dolphins are mammals.  \n",
            "     – Conclusion: Therefore, dolphins are warm-blooded.  \n",
            "   • Inductive (generalization example)  \n",
            "     – Observation: I’ve seen 100 swans, all of them white.  \n",
            "     – Conclusion: Probably all swans are white.\n",
            "\n",
            "4. Strengths and limitations  \n",
            "   • Deductive  \n",
            "     – Strength: Guarantees truth of conclusion (given true premises).  \n",
            "     – Limitation: Heavily depends on the truth and completeness of premises.  \n",
            "   • Inductive  \n",
            "     – Strength: Widely used in science to form hypotheses and theories from data.  \n",
            "     – Limitation: Always leaves room for counter-examples; conclusions can be overturned by new evidence.\n",
            "\n",
            "5. Usage contexts  \n",
            "   • Deductive: Mathematics, formal logic, certain legal reasoning.  \n",
            "   • Inductive: Empirical sciences, everyday generalizations, trend forecasting.\n",
            "\n",
            "Summary  \n",
            "Deduction = applying general laws to reach a certain specific outcome.  \n",
            "Induction = observing specifics to build a probable general rule.\n"
          ]
        }
      ]
    },
    {
      "cell_type": "code",
      "source": [
        "from openai import OpenAI\n",
        "\n",
        "prompt = \"Write a Python function that solves quadratic equations and also explain the math behind it.\"\n",
        "\n",
        "response = client.chat.completions.create(\n",
        "    model=\"o3\",\n",
        "    messages=[\n",
        "        {\"role\": \"user\", \"content\": prompt}\n",
        "    ]\n",
        ")\n",
        "\n",
        "print(response.choices[0].message.content)"
      ],
      "metadata": {
        "colab": {
          "base_uri": "https://localhost:8080/"
        },
        "id": "M17HdJnm1I5G",
        "outputId": "12463727-13d4-42b8-f07c-f14f929f2a16"
      },
      "execution_count": 20,
      "outputs": [
        {
          "output_type": "stream",
          "name": "stdout",
          "text": [
            "Below you will find\n",
            "\n",
            "1. A short, well-commented Python function solve_quadratic(a, b, c) that returns the real and/or complex roots of  \n",
            "   a x² + b x + c = 0.  \n",
            "2. An explanation of the mathematics that the code implements.\n",
            "\n",
            "------------------------------------------------------------------\n",
            "Python implementation\n",
            "------------------------------------------------------------------\n",
            "```python\n",
            "import cmath     # “cmath” handles both real and complex arithmetic.\n",
            "\n",
            "def solve_quadratic(a: float, b: float, c: float):\n",
            "    \"\"\"\n",
            "    Returns the two roots (possibly equal or complex) of\n",
            "        a*x^2 + b*x + c = 0\n",
            "\n",
            "    Parameters\n",
            "    ----------\n",
            "    a, b, c : numbers (int, float or complex)\n",
            "        Coefficients of the quadratic equation.  'a' must be non-zero.\n",
            "\n",
            "    Returns\n",
            "    -------\n",
            "    (root1, root2) : tuple\n",
            "        A pair containing both solutions.  The results are complex objects,\n",
            "        which also represent real numbers when the imaginary part is zero.\n",
            "    \"\"\"\n",
            "    if a == 0:\n",
            "        raise ValueError(\"Coefficient 'a' must be non-zero for a quadratic.\")\n",
            "\n",
            "    # Discriminant Δ = b² − 4ac\n",
            "    disc = b*b - 4*a*c\n",
            "\n",
            "    # Square-root of the discriminant.  For negative Δ we still get a value—\n",
            "    # it will simply be complex.\n",
            "    sqrt_disc = cmath.sqrt(disc)\n",
            "\n",
            "    # Apply the quadratic formula:\n",
            "    root1 = (-b + sqrt_disc) / (2*a)\n",
            "    root2 = (-b - sqrt_disc) / (2*a)\n",
            "\n",
            "    return root1, root2\n",
            "\n",
            "\n",
            "# --------- quick demo -------------\n",
            "if __name__ == \"__main__\":\n",
            "    print(solve_quadratic(1, -3, 2))        # (2.0, 1.0)          real, distinct\n",
            "    print(solve_quadratic(2, 4, 2))         # (-1+0j, -1+0j)      real, repeated\n",
            "    print(solve_quadratic(1, 0, 1))         # (0+1j, 0-1j)        complex\n",
            "```\n",
            "\n",
            "------------------------------------------------------------------\n",
            "Mathematical background\n",
            "------------------------------------------------------------------\n",
            "1. A quadratic equation is any equation that can be written in the form  \n",
            "      a x² + b x + c = 0 , with a ≠ 0.\n",
            "\n",
            "2. Completing the square  \n",
            "   Divide by a (so the x² term has coefficient 1):\n",
            "\n",
            "      x² + (b/a)x + c/a = 0\n",
            "\n",
            "   Add and subtract the square of half the x-coefficient:  \n",
            "\n",
            "      x² + (b/a)x + (b/2a)²  =  (b/2a)² − c/a\n",
            "\n",
            "   Left side is now a perfect square:\n",
            "\n",
            "      (x + b/2a)² = (b² − 4ac) / 4a²\n",
            "\n",
            "3. Taking square roots of both sides and isolating x:\n",
            "\n",
            "      x + b/2a =  ± √(b² − 4ac) / (2a)\n",
            "\n",
            "      x = [ −b  ± √(b² − 4ac) ] / (2a)\n",
            "\n",
            "   This expression is called the quadratic formula.\n",
            "\n",
            "4. Discriminant  \n",
            "   The expression under the square root,\n",
            "\n",
            "      Δ = b² − 4ac   (delta)\n",
            "\n",
            "   tells us the nature of the roots:\n",
            "\n",
            "   • Δ > 0  → two distinct real roots  \n",
            "   • Δ = 0  → one real root of multiplicity 2 (a “double root”)  \n",
            "   • Δ < 0  → two complex-conjugate roots\n",
            "\n",
            "5. Numerical issues (optional remarks)  \n",
            "   In floating-point arithmetic, the standard quadratic formula can suffer from loss of significance when b² ≫ 4ac.  \n",
            "   One remedy is to compute one root with the formula above and the other using  \n",
            "      c / (a * root1)  \n",
            "   where root1 is the first computed root.  \n",
            "   For most everyday purposes, however, the straightforward implementation shown is adequate.\n",
            "\n",
            "That’s it—both the code and the math!\n"
          ]
        }
      ]
    },
    {
      "cell_type": "code",
      "source": [
        "prompt = \"\"\"\n",
        "Instructions:\n",
        "- Given the React component below, change it so that nonfiction books have red\n",
        "  text.\n",
        "- Return only the code in your reply\n",
        "- Do not include any additional formatting, such as markdown code blocks\n",
        "- For formatting, use four space tabs, and do not allow any lines of code to\n",
        "  exceed 80 columns\n",
        "const books = [\n",
        "  { title: 'Dune', category: 'fiction', id: 1 },\n",
        "  { title: 'Frankenstein', category: 'fiction', id: 2 },\n",
        "  { title: 'Moneyball', category: 'nonfiction', id: 3 },\n",
        "];\n",
        "export default function BookList() {\n",
        "  const listItems = books.map(book =>\n",
        "    <li>\n",
        "      {book.title}\n",
        "    </li>\n",
        "  );\n",
        "  return (\n",
        "    <ul>{listItems}</ul>\n",
        "  );\n",
        "}\n",
        "\"\"\"\n",
        "\n",
        "\n",
        "response = client.chat.completions.create(\n",
        "    model=\"o3\",\n",
        "    messages=[\n",
        "        {\n",
        "            \"role\": \"user\",\n",
        "            \"content\": prompt,\n",
        "        }\n",
        "    ]\n",
        ")\n",
        "\n",
        "print(response.choices[0].message.content)"
      ],
      "metadata": {
        "colab": {
          "base_uri": "https://localhost:8080/"
        },
        "id": "KV3adcpv_BGM",
        "outputId": "f23d0e1a-122d-4fc2-92c9-92218ffab1c8"
      },
      "execution_count": 21,
      "outputs": [
        {
          "output_type": "stream",
          "name": "stdout",
          "text": [
            "const books = [\n",
            "    { title: 'Dune', category: 'fiction', id: 1 },\n",
            "    { title: 'Frankenstein', category: 'fiction', id: 2 },\n",
            "    { title: 'Moneyball', category: 'nonfiction', id: 3 },\n",
            "];\n",
            "\n",
            "export default function BookList() {\n",
            "    const listItems = books.map(book =>\n",
            "        <li\n",
            "            key={book.id}\n",
            "            style={book.category === 'nonfiction' ? { color: 'red' } : {}}\n",
            "        >\n",
            "            {book.title}\n",
            "        </li>\n",
            "    );\n",
            "    return (\n",
            "        <ul>{listItems}</ul>\n",
            "    );\n",
            "}\n"
          ]
        }
      ]
    },
    {
      "cell_type": "markdown",
      "source": [
        "## Vision Capability"
      ],
      "metadata": {
        "id": "hE7AFFa05IPl"
      }
    },
    {
      "cell_type": "code",
      "source": [
        "import base64, mimetypes, pathlib\n",
        "def to_data_url(path: str) -> str:\n",
        "    mime = mimetypes.guess_type(path)[0] or \"application/octet-stream\"\n",
        "    data = pathlib.Path(path).read_bytes()\n",
        "    b64  = base64.b64encode(data).decode()\n",
        "    return f\"data:{mime};base64,{b64}\""
      ],
      "metadata": {
        "id": "rSyD9ikO457s"
      },
      "execution_count": 5,
      "outputs": []
    },
    {
      "cell_type": "code",
      "source": [
        "prompt = (\n",
        "    \"Explain what is contained in a photo \"\n",
        ")\n",
        "image_path   = \"/content/pexels-flowerstofox-27082077.jpg\"\n",
        "image_url    = to_data_url(image_path)\n",
        "response = client.chat.completions.create(\n",
        "    model=\"o3\",\n",
        "    messages=[\n",
        "        {\n",
        "            \"role\": \"user\",\n",
        "            \"content\": [\n",
        "                { \"type\": \"text\",      \"text\": prompt },\n",
        "                { \"type\": \"image_url\", \"image_url\": { \"url\": image_url } }\n",
        "            ],\n",
        "        }\n",
        "    ],\n",
        ")\n",
        "print(response.choices[0].message.content)"
      ],
      "metadata": {
        "colab": {
          "base_uri": "https://localhost:8080/"
        },
        "id": "q1f2XD4u5Gkk",
        "outputId": "4fd1163b-1d26-4a77-dcc5-3d14d805c49f"
      },
      "execution_count": 8,
      "outputs": [
        {
          "output_type": "stream",
          "name": "stdout",
          "text": [
            "The photo shows a calm coastal inlet or small harbor dotted with several moored boats:\n",
            "\n",
            "• Foreground: A white rowboat with oars resting inside sits closest to the camera, tethered to a buoy. Gentle ripples surround it.\n",
            "\n",
            "• Mid-ground: A handful of other small craft—painted light blue, turquoise, yellow, and red—float in a loose line. Most appear to be simple fishing or leisure rowboats.\n",
            "\n",
            "• Background: Across the water, a low shoreline features a large, bright white mound (likely salt, sand, or another bulk material) and a few scattered buildings or storage sheds. Behind that, green hills rise under a clear blue sky.\n",
            "\n",
            "Buoys and mooring lines dot the scene, and the overall mood is tranquil and slightly hazy, as if captured on a warm, mild day.\n"
          ]
        }
      ]
    },
    {
      "cell_type": "code",
      "source": [
        "print(response.usage)"
      ],
      "metadata": {
        "colab": {
          "base_uri": "https://localhost:8080/"
        },
        "id": "KopcUag05TvS",
        "outputId": "a191dc39-9b0a-4983-db2a-48d5c6c0cc1b"
      },
      "execution_count": 9,
      "outputs": [
        {
          "output_type": "stream",
          "name": "stdout",
          "text": [
            "CompletionUsage(completion_tokens=315, prompt_tokens=989, total_tokens=1304, completion_tokens_details=CompletionTokensDetails(accepted_prediction_tokens=0, audio_tokens=0, reasoning_tokens=128, rejected_prediction_tokens=0), prompt_tokens_details=PromptTokensDetails(audio_tokens=0, cached_tokens=0))\n"
          ]
        }
      ]
    },
    {
      "cell_type": "code",
      "source": [
        "!pip install -U langchain-openai"
      ],
      "metadata": {
        "colab": {
          "base_uri": "https://localhost:8080/"
        },
        "id": "SLAMKHR0_jv1",
        "outputId": "5a1032c3-db26-4387-9fb8-ed3eb8a528ce"
      },
      "execution_count": 13,
      "outputs": [
        {
          "output_type": "stream",
          "name": "stdout",
          "text": [
            "Collecting langchain-openai\n",
            "  Downloading langchain_openai-0.3.28-py3-none-any.whl.metadata (2.3 kB)\n",
            "Requirement already satisfied: langchain-core<1.0.0,>=0.3.68 in /usr/local/lib/python3.11/dist-packages (from langchain-openai) (0.3.68)\n",
            "Requirement already satisfied: openai<2.0.0,>=1.86.0 in /usr/local/lib/python3.11/dist-packages (from langchain-openai) (1.95.1)\n",
            "Requirement already satisfied: tiktoken<1,>=0.7 in /usr/local/lib/python3.11/dist-packages (from langchain-openai) (0.9.0)\n",
            "Requirement already satisfied: langsmith>=0.3.45 in /usr/local/lib/python3.11/dist-packages (from langchain-core<1.0.0,>=0.3.68->langchain-openai) (0.4.4)\n",
            "Requirement already satisfied: tenacity!=8.4.0,<10.0.0,>=8.1.0 in /usr/local/lib/python3.11/dist-packages (from langchain-core<1.0.0,>=0.3.68->langchain-openai) (8.5.0)\n",
            "Requirement already satisfied: jsonpatch<2.0,>=1.33 in /usr/local/lib/python3.11/dist-packages (from langchain-core<1.0.0,>=0.3.68->langchain-openai) (1.33)\n",
            "Requirement already satisfied: PyYAML>=5.3 in /usr/local/lib/python3.11/dist-packages (from langchain-core<1.0.0,>=0.3.68->langchain-openai) (6.0.2)\n",
            "Requirement already satisfied: packaging<25,>=23.2 in /usr/local/lib/python3.11/dist-packages (from langchain-core<1.0.0,>=0.3.68->langchain-openai) (24.2)\n",
            "Requirement already satisfied: typing-extensions>=4.7 in /usr/local/lib/python3.11/dist-packages (from langchain-core<1.0.0,>=0.3.68->langchain-openai) (4.14.1)\n",
            "Requirement already satisfied: pydantic>=2.7.4 in /usr/local/lib/python3.11/dist-packages (from langchain-core<1.0.0,>=0.3.68->langchain-openai) (2.11.7)\n",
            "Requirement already satisfied: anyio<5,>=3.5.0 in /usr/local/lib/python3.11/dist-packages (from openai<2.0.0,>=1.86.0->langchain-openai) (4.9.0)\n",
            "Requirement already satisfied: distro<2,>=1.7.0 in /usr/local/lib/python3.11/dist-packages (from openai<2.0.0,>=1.86.0->langchain-openai) (1.9.0)\n",
            "Requirement already satisfied: httpx<1,>=0.23.0 in /usr/local/lib/python3.11/dist-packages (from openai<2.0.0,>=1.86.0->langchain-openai) (0.28.1)\n",
            "Requirement already satisfied: jiter<1,>=0.4.0 in /usr/local/lib/python3.11/dist-packages (from openai<2.0.0,>=1.86.0->langchain-openai) (0.10.0)\n",
            "Requirement already satisfied: sniffio in /usr/local/lib/python3.11/dist-packages (from openai<2.0.0,>=1.86.0->langchain-openai) (1.3.1)\n",
            "Requirement already satisfied: tqdm>4 in /usr/local/lib/python3.11/dist-packages (from openai<2.0.0,>=1.86.0->langchain-openai) (4.67.1)\n",
            "Requirement already satisfied: regex>=2022.1.18 in /usr/local/lib/python3.11/dist-packages (from tiktoken<1,>=0.7->langchain-openai) (2024.11.6)\n",
            "Requirement already satisfied: requests>=2.26.0 in /usr/local/lib/python3.11/dist-packages (from tiktoken<1,>=0.7->langchain-openai) (2.32.3)\n",
            "Requirement already satisfied: idna>=2.8 in /usr/local/lib/python3.11/dist-packages (from anyio<5,>=3.5.0->openai<2.0.0,>=1.86.0->langchain-openai) (3.10)\n",
            "Requirement already satisfied: certifi in /usr/local/lib/python3.11/dist-packages (from httpx<1,>=0.23.0->openai<2.0.0,>=1.86.0->langchain-openai) (2025.7.9)\n",
            "Requirement already satisfied: httpcore==1.* in /usr/local/lib/python3.11/dist-packages (from httpx<1,>=0.23.0->openai<2.0.0,>=1.86.0->langchain-openai) (1.0.9)\n",
            "Requirement already satisfied: h11>=0.16 in /usr/local/lib/python3.11/dist-packages (from httpcore==1.*->httpx<1,>=0.23.0->openai<2.0.0,>=1.86.0->langchain-openai) (0.16.0)\n",
            "Requirement already satisfied: jsonpointer>=1.9 in /usr/local/lib/python3.11/dist-packages (from jsonpatch<2.0,>=1.33->langchain-core<1.0.0,>=0.3.68->langchain-openai) (3.0.0)\n",
            "Requirement already satisfied: orjson<4.0.0,>=3.9.14 in /usr/local/lib/python3.11/dist-packages (from langsmith>=0.3.45->langchain-core<1.0.0,>=0.3.68->langchain-openai) (3.10.18)\n",
            "Requirement already satisfied: requests-toolbelt<2.0.0,>=1.0.0 in /usr/local/lib/python3.11/dist-packages (from langsmith>=0.3.45->langchain-core<1.0.0,>=0.3.68->langchain-openai) (1.0.0)\n",
            "Requirement already satisfied: zstandard<0.24.0,>=0.23.0 in /usr/local/lib/python3.11/dist-packages (from langsmith>=0.3.45->langchain-core<1.0.0,>=0.3.68->langchain-openai) (0.23.0)\n",
            "Requirement already satisfied: annotated-types>=0.6.0 in /usr/local/lib/python3.11/dist-packages (from pydantic>=2.7.4->langchain-core<1.0.0,>=0.3.68->langchain-openai) (0.7.0)\n",
            "Requirement already satisfied: pydantic-core==2.33.2 in /usr/local/lib/python3.11/dist-packages (from pydantic>=2.7.4->langchain-core<1.0.0,>=0.3.68->langchain-openai) (2.33.2)\n",
            "Requirement already satisfied: typing-inspection>=0.4.0 in /usr/local/lib/python3.11/dist-packages (from pydantic>=2.7.4->langchain-core<1.0.0,>=0.3.68->langchain-openai) (0.4.1)\n",
            "Requirement already satisfied: charset-normalizer<4,>=2 in /usr/local/lib/python3.11/dist-packages (from requests>=2.26.0->tiktoken<1,>=0.7->langchain-openai) (3.4.2)\n",
            "Requirement already satisfied: urllib3<3,>=1.21.1 in /usr/local/lib/python3.11/dist-packages (from requests>=2.26.0->tiktoken<1,>=0.7->langchain-openai) (2.4.0)\n",
            "Downloading langchain_openai-0.3.28-py3-none-any.whl (70 kB)\n",
            "\u001b[2K   \u001b[90m━━━━━━━━━━━━━━━━━━━━━━━━━━━━━━━━━━━━━━━━\u001b[0m \u001b[32m70.6/70.6 kB\u001b[0m \u001b[31m2.3 MB/s\u001b[0m eta \u001b[36m0:00:00\u001b[0m\n",
            "\u001b[?25hInstalling collected packages: langchain-openai\n",
            "Successfully installed langchain-openai-0.3.28\n"
          ]
        }
      ]
    },
    {
      "cell_type": "code",
      "source": [
        "import os\n",
        "YOUR_API_KEY= userdata.get('YOUR_API_KEY') # Replace with your actual API key\n",
        "\n",
        "from langchain_openai import ChatOpenAI\n",
        "\n",
        "reasoning = {\n",
        "    \"effort\": \"medium\",\n",
        "    \"summary\": \"auto\",\n",
        "}\n",
        "\n",
        "llm = ChatOpenAI(\n",
        "    model=\"o3\",\n",
        "    reasoning=reasoning,\n",
        "    output_version=\"responses/v1\",\n",
        "    api_key=YOUR_API_KEY\n",
        ")\n",
        "\n",
        "response = llm.invoke(\"What is 3^3?\")\n",
        "print(f\"Output: {response.text()}\")\n",
        "for block in response.content:\n",
        "    if block[\"type\"] == \"reasoning\":\n",
        "        for summary in block[\"summary\"]:\n",
        "            print(summary[\"text\"])"
      ],
      "metadata": {
        "colab": {
          "base_uri": "https://localhost:8080/"
        },
        "id": "uMS8ATX0_bAd",
        "outputId": "d8d8aeca-d673-4f95-c3ff-eed8fe3c4eec"
      },
      "execution_count": 18,
      "outputs": [
        {
          "output_type": "stream",
          "name": "stdout",
          "text": [
            "Output: 3^3 (3 raised to the 3rd power) equals 27.\n",
            "**Calculating a simple power**\n",
            "\n",
            "The user asked a straightforward question: What is 3 raised to the power of 3? I realize it's a simple calculation — I know that 3^3 equals 27. It’s nice to provide a quick answer like this! I want to ensure I’m clear and precise in delivering the response since it’s just a basic math question. Just a moment, and I’ll let the user know the answer is 27!\n"
          ]
        }
      ]
    },
    {
      "cell_type": "code",
      "source": [
        "from langchain_openai import ChatOpenAI\n",
        "\n",
        "reasoning = {\n",
        "    \"effort\": \"medium\",\n",
        "    \"summary\": \"auto\",\n",
        "}\n",
        "\n",
        "llm = ChatOpenAI(\n",
        "    model=\"o3\",\n",
        "    reasoning=reasoning,\n",
        "    output_version=\"responses/v1\",\n",
        "    api_key=YOUR_API_KEY\n",
        ")\n",
        "\n",
        "# List of prompts\n",
        "prompts = [\n",
        "    \"What is 2 + 2?\",\n",
        "    \"What is the capital of France?\",\n",
        "    \"Explain quantum entanglement simply.\",\n",
        "    \"What is 3^3?\"\n",
        "]\n",
        "\n",
        "# Run batch\n",
        "responses = llm.batch(prompts)\n",
        "\n",
        "# Print responses\n",
        "for i, response in enumerate(responses):\n",
        "    print(f\"\\nPrompt: {prompts[i]}\")\n",
        "    print(f\"Output: {response.text()}\")\n",
        "    for block in response.content:\n",
        "        if block[\"type\"] == \"reasoning\":\n",
        "            for summary in block[\"summary\"]:\n",
        "                print(\"Reasoning:\", summary[\"text\"])"
      ],
      "metadata": {
        "colab": {
          "base_uri": "https://localhost:8080/"
        },
        "id": "lIwHITSj_dCq",
        "outputId": "38891919-75c6-48bc-a8d4-cb77bd410694"
      },
      "execution_count": 20,
      "outputs": [
        {
          "output_type": "stream",
          "name": "stdout",
          "text": [
            "\n",
            "Prompt: What is 2 + 2?\n",
            "Output: 2 + 2 equals 4.\n",
            "Reasoning: **Providing a simple answer**\n",
            "\n",
            "The user posed a straightforward question: \"What is 2 + 2?\" It seems like they're looking for a quick, easy response. Based on that, I can confidently say that the answer is 4. There’s no need for complications here; it’s just basic math! I appreciate how direct this question is, and I aim to deliver the information efficiently. Alright, let’s confirm that simple arithmetic!\n",
            "\n",
            "Prompt: What is the capital of France?\n",
            "Output: Paris\n",
            "Reasoning: **Providing a brief answer**\n",
            "\n",
            "The user is asking a straightforward question: \"What is the capital of France?\" My response should simply be \"Paris.\" This is clear and to the point. It's important to be concise while ensuring I address the user's inquiry directly. Since it's a well-known fact, I don’t need to elaborate. Keeping it brief respects the user's time and makes it easy for them to get the information they need quickly.\n",
            "\n",
            "Prompt: Explain quantum entanglement simply.\n",
            "Output: Imagine you have two magic coins that start out next to each other.  While they are together you perform a special trick that “links” them.  Then you separate the coins—one stays with you and one goes to a friend on the other side of the world.\n",
            "\n",
            "Each coin is still a normal-looking coin.  When either of you flips your coin it doesn’t land as heads or tails right away; instead it stays in a fuzzy “both-sides-at-once” state (this is what physicists call a quantum superposition).  The puzzling part comes when someone finally looks at a coin:\n",
            "\n",
            "• The very instant you observe your coin and see, say, heads, your friend’s coin will always come up tails if they check theirs—even if they look at it a microsecond later or on the other side of the planet.\n",
            "\n",
            "• The outcome of each single flip is random (you can’t control getting heads or tails), but the two outcomes are perfectly correlated—heads here guarantees tails there, and vice versa.\n",
            "\n",
            "That linked behavior is quantum entanglement.  It doesn’t let you send signals faster than light, because you can’t choose which result you get.  It simply means that the two coins behave as one combined system no matter how far apart they are.  Entanglement is the basis for technologies like quantum computing, ultra-secure communication, and certain precision sensors.\n",
            "Reasoning: **Explaining quantum entanglement simply**\n",
            "\n",
            "The user wants a simple explanation of quantum entanglement, so I need to keep it accessible. I’ll aim to use analogies and everyday examples. It involves correlations that are stronger than classical methods, and I should clarify that measurements create instant correlations without transferring information. Quantum computing and cryptography utilize this concept. I can use a coin analogy to explain spins and mention EPR while noting that measurements are still random individually. Let’s keep it concise!\n",
            "\n",
            "Prompt: What is 3^3?\n",
            "Output: 3³ = 3 × 3 × 3 = 27\n",
            "Reasoning: **Calculating a power**\n",
            "\n",
            "The user’s question, \"What is 3^3?\" is pretty straightforward. I recognize that it's asking for the cube of 3. So, I need to compute it. 3 multiplied by itself three times equals 27. There's nothing too complicated here, which is nice! I just need to state it clearly: the answer is 27. Simple math problems like this can be refreshing!\n"
          ]
        }
      ]
    },
    {
      "cell_type": "code",
      "source": [],
      "metadata": {
        "id": "leGZhE6lDiQE"
      },
      "execution_count": null,
      "outputs": []
    }
  ]
}